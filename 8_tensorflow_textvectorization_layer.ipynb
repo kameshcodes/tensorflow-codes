{
  "nbformat": 4,
  "nbformat_minor": 0,
  "metadata": {
    "colab": {
      "provenance": [],
      "authorship_tag": "ABX9TyP69W61fI3+9IzndA7wmJ3l",
      "include_colab_link": true
    },
    "kernelspec": {
      "name": "python3",
      "display_name": "Python 3"
    },
    "language_info": {
      "name": "python"
    }
  },
  "cells": [
    {
      "cell_type": "markdown",
      "metadata": {
        "id": "view-in-github",
        "colab_type": "text"
      },
      "source": [
        "<a href=\"https://colab.research.google.com/github/kameshcodes/tensorflow-codes/blob/main/8_tensorflow_textvectorization_layer.ipynb\" target=\"_parent\"><img src=\"https://colab.research.google.com/assets/colab-badge.svg\" alt=\"Open In Colab\"/></a>"
      ]
    },
    {
      "cell_type": "markdown",
      "source": [
        "$$\\textbf{TextVectorization layer in Keras}$$\n",
        "\n",
        "---\n",
        "---"
      ],
      "metadata": {
        "id": "fbrlteKOAMvk"
      }
    },
    {
      "cell_type": "markdown",
      "source": [
        "# TextVectorization layer\n",
        "\n",
        "---"
      ],
      "metadata": {
        "id": "FhdR44fKARfX"
      }
    },
    {
      "cell_type": "markdown",
      "source": [
        "## 1. Import Libraries"
      ],
      "metadata": {
        "id": "mozYYcbvT4fP"
      }
    },
    {
      "cell_type": "code",
      "source": [
        "import os\n",
        "import tensorflow as tf\n",
        "import matplotlib.pyplot as plt"
      ],
      "metadata": {
        "id": "2DP_eF6nT8A7"
      },
      "execution_count": 23,
      "outputs": []
    },
    {
      "cell_type": "markdown",
      "source": [
        "## 2. $Example$"
      ],
      "metadata": {
        "id": "BWkQXupnKc1j"
      }
    },
    {
      "cell_type": "code",
      "source": [
        "sentences = [\n",
        "    \"I love my cats\",\n",
        "    \"I love my cow\",\n",
        "    \"You are my best cow\"\n",
        "]"
      ],
      "metadata": {
        "id": "fcHhN5FmI0gn"
      },
      "execution_count": 24,
      "outputs": []
    },
    {
      "cell_type": "code",
      "source": [
        "# initialize the TextVectorization layer\n",
        "vectorizer = tf.keras.layers.TextVectorization(output_mode='int')"
      ],
      "metadata": {
        "id": "f-vXZ2AcJDb5"
      },
      "execution_count": 25,
      "outputs": []
    },
    {
      "cell_type": "code",
      "source": [
        "# adapt and build vocab\n",
        "vectorizer.adapt(sentences)"
      ],
      "metadata": {
        "id": "q2Wcfs6hJMVw"
      },
      "execution_count": 26,
      "outputs": []
    },
    {
      "cell_type": "code",
      "source": [
        "vectorizer.get_vocabulary()"
      ],
      "metadata": {
        "colab": {
          "base_uri": "https://localhost:8080/"
        },
        "id": "ZPulzuGwJRyb",
        "outputId": "22501930-aadb-406f-906e-dd2901ba951c"
      },
      "execution_count": 27,
      "outputs": [
        {
          "output_type": "execute_result",
          "data": {
            "text/plain": [
              "['', '[UNK]', 'my', 'love', 'i', 'cow', 'you', 'cats', 'best', 'are']"
            ]
          },
          "metadata": {},
          "execution_count": 27
        }
      ]
    },
    {
      "cell_type": "code",
      "source": [
        "for idx, element in enumerate(vectorizer.get_vocabulary()):\n",
        "  print(idx, element)"
      ],
      "metadata": {
        "colab": {
          "base_uri": "https://localhost:8080/"
        },
        "id": "5SK0Y3_OJeqd",
        "outputId": "424e6277-935a-4b9b-df95-5d1bc793e79c"
      },
      "execution_count": 28,
      "outputs": [
        {
          "output_type": "stream",
          "name": "stdout",
          "text": [
            "0 \n",
            "1 [UNK]\n",
            "2 my\n",
            "3 love\n",
            "4 i\n",
            "5 cow\n",
            "6 you\n",
            "7 cats\n",
            "8 best\n",
            "9 are\n"
          ]
        }
      ]
    },
    {
      "cell_type": "code",
      "source": [
        "vectorizer(sentences)"
      ],
      "metadata": {
        "colab": {
          "base_uri": "https://localhost:8080/"
        },
        "id": "UCRuS5VOJwu4",
        "outputId": "dd98a254-b73b-407e-f814-cbef33107bcd"
      },
      "execution_count": 29,
      "outputs": [
        {
          "output_type": "execute_result",
          "data": {
            "text/plain": [
              "<tf.Tensor: shape=(3, 5), dtype=int64, numpy=\n",
              "array([[4, 3, 2, 7, 0],\n",
              "       [4, 3, 2, 5, 0],\n",
              "       [6, 9, 2, 8, 5]])>"
            ]
          },
          "metadata": {},
          "execution_count": 29
        }
      ]
    },
    {
      "cell_type": "markdown",
      "source": [
        "To get vector, you simply pass in the string to the layer which already learned the vocabulary, and it will output the integer sequence as a `tf.Tensor`"
      ],
      "metadata": {
        "id": "KSYsZ4sdLYce"
      }
    },
    {
      "cell_type": "code",
      "source": [
        "sample_sentence = 'cats best companions'\n",
        "\n",
        "# convert string into vector\n",
        "vectorizer(sample_sentence)"
      ],
      "metadata": {
        "id": "KfMWjXHhJ9aS",
        "colab": {
          "base_uri": "https://localhost:8080/"
        },
        "outputId": "a3f2c00d-5ff6-433f-87c9-bdbc921c5cac"
      },
      "execution_count": 30,
      "outputs": [
        {
          "output_type": "execute_result",
          "data": {
            "text/plain": [
              "<tf.Tensor: shape=(3,), dtype=int64, numpy=array([7, 8, 1])>"
            ]
          },
          "metadata": {},
          "execution_count": 30
        }
      ]
    },
    {
      "cell_type": "code",
      "source": [
        "vectorizer(sample_sentence).numpy()"
      ],
      "metadata": {
        "colab": {
          "base_uri": "https://localhost:8080/"
        },
        "id": "VD1Kl_1UKxHU",
        "outputId": "3c2beb61-bffe-48c0-fd77-7b0f066467ce"
      },
      "execution_count": 31,
      "outputs": [
        {
          "output_type": "execute_result",
          "data": {
            "text/plain": [
              "array([7, 8, 1])"
            ]
          },
          "metadata": {},
          "execution_count": 31
        }
      ]
    },
    {
      "cell_type": "markdown",
      "source": [
        "## 3 How to Vectorize sentences ?"
      ],
      "metadata": {
        "id": "13iCJ30VL53R"
      }
    },
    {
      "cell_type": "markdown",
      "source": [
        "### 3.1 Using vectorizer object"
      ],
      "metadata": {
        "id": "JfF67c0wMOC9"
      }
    },
    {
      "cell_type": "code",
      "source": [
        "sentences_2 = [\n",
        "    'I love my dog',\n",
        "    'I love my cat',\n",
        "    'You love my dog!',\n",
        "    'Do you think my dog is amazing?'\n",
        "    ]\n",
        "\n",
        "vectorize_layer = tf.keras.layers.TextVectorization(output_mode='int')\n",
        "vectorize_layer.adapt(sentences_2)\n",
        "\n",
        "for idx, word in enumerate(vectorize_layer.get_vocabulary()):\n",
        "  print(idx, word)"
      ],
      "metadata": {
        "colab": {
          "base_uri": "https://localhost:8080/"
        },
        "id": "dm_zBXV9K6u4",
        "outputId": "918c0398-4432-469b-fd28-9e91d2a32b57"
      },
      "execution_count": 32,
      "outputs": [
        {
          "output_type": "stream",
          "name": "stdout",
          "text": [
            "0 \n",
            "1 [UNK]\n",
            "2 my\n",
            "3 love\n",
            "4 dog\n",
            "5 you\n",
            "6 i\n",
            "7 think\n",
            "8 is\n",
            "9 do\n",
            "10 cat\n",
            "11 amazing\n"
          ]
        }
      ]
    },
    {
      "cell_type": "code",
      "source": [
        "vectorizer(sentences_2).numpy()"
      ],
      "metadata": {
        "colab": {
          "base_uri": "https://localhost:8080/"
        },
        "id": "_xnfplSOMPd6",
        "outputId": "a9a430af-4c87-4955-ea81-92eebb1b5694"
      },
      "execution_count": 33,
      "outputs": [
        {
          "output_type": "execute_result",
          "data": {
            "text/plain": [
              "array([[4, 3, 2, 1, 0, 0, 0],\n",
              "       [4, 3, 2, 1, 0, 0, 0],\n",
              "       [6, 3, 2, 1, 0, 0, 0],\n",
              "       [1, 6, 1, 2, 1, 1, 1]])"
            ]
          },
          "metadata": {},
          "execution_count": 33
        }
      ]
    },
    {
      "cell_type": "code",
      "source": [
        "sample_input = 'I love my dog'\n",
        "\n",
        "vector = vectorize_layer(sample_input)\n",
        "print(vector)"
      ],
      "metadata": {
        "colab": {
          "base_uri": "https://localhost:8080/"
        },
        "id": "ypxW7EILMSPx",
        "outputId": "baf83947-0229-4b60-da89-91953ba76953"
      },
      "execution_count": 34,
      "outputs": [
        {
          "output_type": "stream",
          "name": "stdout",
          "text": [
            "tf.Tensor([6 3 2 4], shape=(4,), dtype=int64)\n"
          ]
        }
      ]
    },
    {
      "cell_type": "markdown",
      "source": [
        "#### 3.2 Using MAP"
      ],
      "metadata": {
        "id": "p2BzTrvBOaLU"
      }
    },
    {
      "cell_type": "code",
      "source": [
        "tf.data.Dataset.from_tensor_slices(sentences_2)"
      ],
      "metadata": {
        "colab": {
          "base_uri": "https://localhost:8080/"
        },
        "id": "NviYvf4mM-gM",
        "outputId": "36b7353d-746c-40e2-b54e-a36362cb78b3"
      },
      "execution_count": 35,
      "outputs": [
        {
          "output_type": "execute_result",
          "data": {
            "text/plain": [
              "<_TensorSliceDataset element_spec=TensorSpec(shape=(), dtype=tf.string, name=None)>"
            ]
          },
          "metadata": {},
          "execution_count": 35
        }
      ]
    },
    {
      "cell_type": "code",
      "source": [
        "# convert the sentences to tf.data.Dataset\n",
        "\n",
        "sentences_dataset = tf.data.Dataset.from_tensor_slices(sentences_2)\n",
        "sequences = sentences_dataset.map(vectorize_layer)\n",
        "sequences"
      ],
      "metadata": {
        "colab": {
          "base_uri": "https://localhost:8080/"
        },
        "id": "lfitPwspOOlx",
        "outputId": "0e7c8c83-ec37-45df-d24c-afb0c3daabc6"
      },
      "execution_count": 36,
      "outputs": [
        {
          "output_type": "execute_result",
          "data": {
            "text/plain": [
              "<_MapDataset element_spec=TensorSpec(shape=(None,), dtype=tf.int64, name=None)>"
            ]
          },
          "metadata": {},
          "execution_count": 36
        }
      ]
    },
    {
      "cell_type": "code",
      "source": [
        "for sentence, sequence in zip(sentences_2, sequences):\n",
        "  print(f'{sentence} ---> {sequence}')"
      ],
      "metadata": {
        "colab": {
          "base_uri": "https://localhost:8080/"
        },
        "id": "aXqxLWRJO33i",
        "outputId": "bb143bc1-bed1-4fbe-ca38-6ccb12fdd700"
      },
      "execution_count": 37,
      "outputs": [
        {
          "output_type": "stream",
          "name": "stdout",
          "text": [
            "I love my dog ---> [6 3 2 4]\n",
            "I love my cat ---> [ 6  3  2 10]\n",
            "You love my dog! ---> [5 3 2 4]\n",
            "Do you think my dog is amazing? ---> [ 9  5  7  2  4  8 11]\n"
          ]
        }
      ]
    },
    {
      "cell_type": "markdown",
      "source": [
        "- Note that, Vectors are of varying length when using $map$\n",
        "- To get vectors of uniform length, either $pad$ or $truncate$\n",
        "- Padding is more common to preserve information\n"
      ],
      "metadata": {
        "id": "UXTGvfDHTPkX"
      }
    },
    {
      "cell_type": "markdown",
      "source": [
        "### 3.2 Padding\n",
        "- 0 is special token for padding\n",
        "- when using `vectorize_layer` object it is already post padded for `0`"
      ],
      "metadata": {
        "id": "VNFZI95cPSvo"
      }
    },
    {
      "cell_type": "code",
      "source": [
        "# Apply the layer to the string input list\n",
        "sequences_post = vectorize_layer(sentences_2)\n",
        "\n",
        "# Print the results\n",
        "print('INPUT:')\n",
        "print(sentences_2)\n",
        "print()\n",
        "\n",
        "print('OUTPUT:')\n",
        "print(sequences_post)"
      ],
      "metadata": {
        "colab": {
          "base_uri": "https://localhost:8080/"
        },
        "id": "PpafK3N5PEme",
        "outputId": "d062542e-6f38-4f06-b20c-20f55774c1e6"
      },
      "execution_count": 38,
      "outputs": [
        {
          "output_type": "stream",
          "name": "stdout",
          "text": [
            "INPUT:\n",
            "['I love my dog', 'I love my cat', 'You love my dog!', 'Do you think my dog is amazing?']\n",
            "\n",
            "OUTPUT:\n",
            "tf.Tensor(\n",
            "[[ 6  3  2  4  0  0  0]\n",
            " [ 6  3  2 10  0  0  0]\n",
            " [ 5  3  2  4  0  0  0]\n",
            " [ 9  5  7  2  4  8 11]], shape=(4, 7), dtype=int64)\n"
          ]
        }
      ]
    },
    {
      "cell_type": "markdown",
      "source": [
        "- Note that vectors are post padded with `0` by the `vectorize_layer` object."
      ],
      "metadata": {
        "id": "wwRUF30RU39t"
      }
    },
    {
      "cell_type": "markdown",
      "source": [
        "#### Padding using `keras.utils`"
      ],
      "metadata": {
        "id": "U8_ftoqYVfpY"
      }
    },
    {
      "cell_type": "code",
      "source": [
        "sentences_dataset = tf.data.Dataset.from_tensor_slices(sentences_2)\n",
        "sequences = sentences_dataset.map(vectorize_layer)\n",
        "\n",
        "for sentence, sequence in zip(sentences_2, sequences):\n",
        "  print(f'{sentence} ---> {sequence}')"
      ],
      "metadata": {
        "colab": {
          "base_uri": "https://localhost:8080/"
        },
        "id": "92sBh0TXUvfL",
        "outputId": "46d59214-fc4a-458f-9651-0e77a8707d6a"
      },
      "execution_count": 39,
      "outputs": [
        {
          "output_type": "stream",
          "name": "stdout",
          "text": [
            "I love my dog ---> [6 3 2 4]\n",
            "I love my cat ---> [ 6  3  2 10]\n",
            "You love my dog! ---> [5 3 2 4]\n",
            "Do you think my dog is amazing? ---> [ 9  5  7  2  4  8 11]\n"
          ]
        }
      ]
    },
    {
      "cell_type": "code",
      "source": [
        "sequences_pre = tf.keras.utils.pad_sequences(sequences, padding='pre')\n",
        "\n",
        "sequences_pre"
      ],
      "metadata": {
        "colab": {
          "base_uri": "https://localhost:8080/"
        },
        "id": "uUn9BSaWVtXA",
        "outputId": "8ef89f75-d9c1-4a3d-f622-5934953bf9bb"
      },
      "execution_count": 40,
      "outputs": [
        {
          "output_type": "execute_result",
          "data": {
            "text/plain": [
              "array([[ 0,  0,  0,  6,  3,  2,  4],\n",
              "       [ 0,  0,  0,  6,  3,  2, 10],\n",
              "       [ 0,  0,  0,  5,  3,  2,  4],\n",
              "       [ 9,  5,  7,  2,  4,  8, 11]], dtype=int32)"
            ]
          },
          "metadata": {},
          "execution_count": 40
        }
      ]
    },
    {
      "cell_type": "code",
      "source": [
        "sequences_pre = tf.keras.utils.pad_sequences(sequences, padding='post')\n",
        "\n",
        "sequences_pre"
      ],
      "metadata": {
        "colab": {
          "base_uri": "https://localhost:8080/"
        },
        "id": "Map8DK7VWaqX",
        "outputId": "ab26bfdb-cc47-4198-e2ca-5275b7e1f4a5"
      },
      "execution_count": 41,
      "outputs": [
        {
          "output_type": "execute_result",
          "data": {
            "text/plain": [
              "array([[ 6,  3,  2,  4,  0,  0,  0],\n",
              "       [ 6,  3,  2, 10,  0,  0,  0],\n",
              "       [ 5,  3,  2,  4,  0,  0,  0],\n",
              "       [ 9,  5,  7,  2,  4,  8, 11]], dtype=int32)"
            ]
          },
          "metadata": {},
          "execution_count": 41
        }
      ]
    },
    {
      "cell_type": "code",
      "source": [
        "# Print the results\n",
        "print('INPUT:')\n",
        "[print(sequence.numpy()) for sequence in sequences]\n",
        "print()\n",
        "\n",
        "print('OUTPUT:')\n",
        "print(sequences_pre)"
      ],
      "metadata": {
        "colab": {
          "base_uri": "https://localhost:8080/"
        },
        "id": "9Ha1_Yz6WAyj",
        "outputId": "8d3ba7ec-5044-457a-941e-ba39e7855d4b"
      },
      "execution_count": 42,
      "outputs": [
        {
          "output_type": "stream",
          "name": "stdout",
          "text": [
            "INPUT:\n",
            "[6 3 2 4]\n",
            "[ 6  3  2 10]\n",
            "[5 3 2 4]\n",
            "[ 9  5  7  2  4  8 11]\n",
            "\n",
            "OUTPUT:\n",
            "[[ 6  3  2  4  0  0  0]\n",
            " [ 6  3  2 10  0  0  0]\n",
            " [ 5  3  2  4  0  0  0]\n",
            " [ 9  5  7  2  4  8 11]]\n"
          ]
        }
      ]
    },
    {
      "cell_type": "markdown",
      "source": [
        "#### Using `rugged=True`"
      ],
      "metadata": {
        "id": "Q0gtbD3laQKZ"
      }
    },
    {
      "cell_type": "code",
      "source": [
        "vectorize_layer = tf.keras.layers.TextVectorization(ragged=True)\n",
        "vectorize_layer.adapt(sentences_2)\n",
        "ragged_sequences = vectorize_layer(sentences_2)\n",
        "print(ragged_sequences)"
      ],
      "metadata": {
        "colab": {
          "base_uri": "https://localhost:8080/"
        },
        "id": "f8IQ1ji-WXkM",
        "outputId": "8be82327-a9c1-4a35-eac4-48001936c94c"
      },
      "execution_count": 43,
      "outputs": [
        {
          "output_type": "stream",
          "name": "stdout",
          "text": [
            "<tf.RaggedTensor [[6, 3, 2, 4], [6, 3, 2, 10], [5, 3, 2, 4], [9, 5, 7, 2, 4, 8, 11]]>\n"
          ]
        }
      ]
    },
    {
      "cell_type": "code",
      "source": [
        "sequences_pre = tf.keras.utils.pad_sequences(ragged_sequences.numpy())\n",
        "print(sequences_pre)"
      ],
      "metadata": {
        "colab": {
          "base_uri": "https://localhost:8080/"
        },
        "id": "zgmGRX5tarDV",
        "outputId": "f2d41a48-1f9c-4bdb-adb6-10147ecb2e20"
      },
      "execution_count": 44,
      "outputs": [
        {
          "output_type": "stream",
          "name": "stdout",
          "text": [
            "[[ 0  0  0  6  3  2  4]\n",
            " [ 0  0  0  6  3  2 10]\n",
            " [ 0  0  0  5  3  2  4]\n",
            " [ 9  5  7  2  4  8 11]]\n"
          ]
        }
      ]
    }
  ]
}